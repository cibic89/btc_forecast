{
  "cells": [
    {
      "cell_type": "markdown",
      "metadata": {
        "id": "view-in-github",
        "colab_type": "text"
      },
      "source": [
        "<a href=\"https://colab.research.google.com/github/cibic89/btc_forecast/blob/main/btc_forecast.ipynb\" target=\"_parent\"><img src=\"https://colab.research.google.com/assets/colab-badge.svg\" alt=\"Open In Colab\"/></a>"
      ]
    },
    {
      "cell_type": "markdown",
      "metadata": {
        "id": "4Oc5iJT2es4n"
      },
      "source": [
        "T4 works great for this problem"
      ]
    },
    {
      "cell_type": "code",
      "execution_count": null,
      "metadata": {
        "id": "80RBxZsE1EbE"
      },
      "outputs": [],
      "source": [
        "!pip install -U pip\n",
        "!pip install -U setuptools wheel\n",
        "!pip install -U autogluon\n",
        "!pip install dask[dataframe]"
      ]
    },
    {
      "cell_type": "code",
      "execution_count": null,
      "metadata": {
        "id": "73hJrOsV1eMP"
      },
      "outputs": [],
      "source": [
        "import pandas as pd\n",
        "from autogluon.timeseries import TimeSeriesDataFrame, TimeSeriesPredictor\n",
        "import matplotlib.pyplot as plt\n",
        "from matplotlib.ticker import MaxNLocator\n",
        "from math import ceil\n",
        "import os"
      ]
    },
    {
      "cell_type": "code",
      "execution_count": null,
      "metadata": {
        "id": "zNp_aRQf1juP"
      },
      "outputs": [],
      "source": [
        "# def find_latest_folder(path):\n",
        "#     latest_folder = None\n",
        "\n",
        "#     try:\n",
        "#         # Get a list of all folders in the directory\n",
        "#         folders = [f for f in os.listdir(path) if os.path.isdir(os.path.join(path, f))]\n",
        "\n",
        "#         # Sort the folders alphanumerically in ascending order\n",
        "#         folders.sort()\n",
        "\n",
        "#         # Get the last folder in the sorted list\n",
        "#         latest_folder = folders[-1]\n",
        "#     except FileNotFoundError:\n",
        "#         pass\n",
        "\n",
        "#     return latest_folder"
      ]
    },
    {
      "cell_type": "code",
      "execution_count": null,
      "metadata": {
        "id": "iSU64JqE16EX"
      },
      "outputs": [],
      "source": [
        "dtp = 7  # prediction length\n",
        "path_to_directory = str(dtp)+\"-day\"\n",
        "date_today = pd.to_datetime(\"today\").strftime(\"%Y-%m-%d\")\n",
        "latest_folder = None  # find_latest_folder(path_to_directory)\n",
        "\n",
        "result_dir = 'drive/MyDrive/code_projects/btc_forecast/results/'+path_to_directory+'/'\n",
        "try:\n",
        "    if not os.path.exists(result_dir):\n",
        "        os.makedirs(result_dir)\n",
        "except OSError:\n",
        "    print(\"Error: Failed to create the directory.\")\n",
        "# base_dir = 'drive/MyDrive/code_projects/btc_forecast/'"
      ]
    },
    {
      "cell_type": "code",
      "execution_count": null,
      "metadata": {
        "id": "rq7jBv6l05Xu"
      },
      "outputs": [],
      "source": [
        "df = pd.read_csv('drive/MyDrive/code_projects/btc_forecast/Bitstamp_BTCUSD_d.csv', skiprows=1, parse_dates=[\"date\"])\n",
        "df = df.sort_values('date').drop(columns=[\"unix\"]).reset_index(drop=True).iloc[:-1]\n",
        "df.tail(2)"
      ]
    },
    {
      "cell_type": "code",
      "execution_count": null,
      "metadata": {
        "id": "kF2rRFNd1_w9"
      },
      "outputs": [],
      "source": [
        "df.dtypes, df.shape"
      ]
    },
    {
      "cell_type": "code",
      "execution_count": null,
      "metadata": {
        "id": "VLOL9LMY2DNp"
      },
      "outputs": [],
      "source": [
        "ml_df = TimeSeriesDataFrame.from_data_frame(\n",
        "    df,  # [df[\"date\"]> '2022-11-08'],  # selecting data from last bull run - not a good idea (makes the model too optimistic)\n",
        "    id_column=\"symbol\",\n",
        "    timestamp_column=\"date\"\n",
        ")\n",
        "train_data = ml_df\n",
        "# train_data, test_data = ml_df.train_test_split(prediction_length=dtp)\n",
        "# print(train_data.shape, test_data.shape)"
      ]
    },
    {
      "cell_type": "code",
      "execution_count": null,
      "metadata": {
        "id": "3Bo9TLuA3Rnw"
      },
      "outputs": [],
      "source": [
        "train_data.tail(2)"
      ]
    },
    {
      "cell_type": "code",
      "execution_count": null,
      "metadata": {
        "id": "SCZHUVQr1dQp"
      },
      "outputs": [],
      "source": [
        "# test_data.tail(2)"
      ]
    },
    {
      "cell_type": "code",
      "execution_count": null,
      "metadata": {
        "id": "Lo9vsoyB1ecq"
      },
      "outputs": [],
      "source": [
        "fact = 2\n",
        "train_data_size = len(train_data)\n",
        "\n",
        "val_step_size_n = int(dtp//0.25)*fact\n",
        "print(\"Val step size:\", val_step_size_n)\n",
        "\n",
        "val_size = int(train_data_size*0.3)\n",
        "print(\"Validation data size:\", val_size)\n",
        "\n",
        "n_windows = (val_size//dtp)//fact\n",
        "print(\"Rolling-window count:\", n_windows)\n",
        "\n",
        "viz_df = train_data.reset_index().set_index(\"timestamp\")\n",
        "\n",
        "# Ensure the windows span the entire dataset, including at the end\n",
        "validation_windows = []\n",
        "current_iloc = 0\n",
        "for i in range(n_windows):\n",
        "    start_idx = current_iloc + val_step_size_n\n",
        "    end_idx = start_idx + dtp\n",
        "    if end_idx <= len(viz_df):  # Ensure indices are within bounds\n",
        "        validation_windows.append((start_idx, end_idx))\n",
        "    current_iloc = end_idx + 1\n",
        "\n",
        "# Plot the Bitcoin close prices\n",
        "plt.figure(figsize=(15, 6))\n",
        "plt.plot(viz_df.index, viz_df[\"close\"], label=\"Bitcoin Close Price\", color=\"blue\", alpha=0.7)\n",
        "\n",
        "# Highlight validation windows\n",
        "for start_idx, end_idx in validation_windows:\n",
        "    plt.axvspan(viz_df.index[start_idx], viz_df.index[end_idx - 1],\n",
        "                color=\"orange\", alpha=0.3,\n",
        "                label=\"Validation Window\" if start_idx == validation_windows[0][0] else None)\n",
        "\n",
        "# Add labels and legend\n",
        "plt.title(\"Bitcoin Close Prices with Validation Windows\")  # with n-fold: \"+str(z))\n",
        "plt.xlabel(\"Date\")\n",
        "plt.ylabel(\"Close Price\")\n",
        "plt.legend()\n",
        "plt.grid()\n",
        "plt.tight_layout()\n",
        "\n",
        "try:\n",
        "    plt.savefig(result_dir+date_today+'_val_windows.png')\n",
        "except Exception as e:\n",
        "    print(e)\n",
        "    pass\n",
        "\n",
        "plt.show()"
      ]
    },
    {
      "cell_type": "code",
      "execution_count": null,
      "metadata": {
        "id": "_gA_Dler1gEd"
      },
      "outputs": [],
      "source": [
        "# models = ['SeasonalNaive', 'RecursiveTabular', 'DirectTabular', 'NPTS', 'DynamicOptimizedTheta',\n",
        "#           'AutoETS', 'ChronosZeroShot[bolt_base]', 'ChronosFineTuned[bolt_small]',\n",
        "#           'TemporalFusionTransformer', 'DeepAR', 'PatchTST', 'TiDE']\n",
        "# included_models = [\"ChronosFineTuned[bolt_small]\", \"ChronosZeroShot[bolt_base]\"]\n",
        "# # included_models = [\"SeasonalNaive\"]\n",
        "# excluded_model_types = [model for model in models if model not in included_models]\n",
        "# excluded_model_types = ['NPTS']"
      ]
    },
    {
      "cell_type": "code",
      "execution_count": null,
      "metadata": {
        "id": "MxUGVoFh1t3X"
      },
      "outputs": [],
      "source": [
        "# Get today's date\n",
        "today = pd.to_datetime(\"today\")\n",
        "max_date = df[\"date\"].max()+pd.Timedelta(days=dtp)\n",
        "error_metric = \"RMSE\"\n",
        "max_train_dur = 43_200\n",
        "\n",
        "# Check if the given date is older or equal to today's date\n",
        "if (max_date >= today) and (latest_folder is not None):\n",
        "    print(\"Using existing model\")\n",
        "    predictor = TimeSeriesPredictor.load(path_to_directory+os.sep+latest_folder)\n",
        "else:\n",
        "    print(\"Training a new model, this will take up to \"+str(max_train_dur//60//60)+\" hours\")\n",
        "    predictor = TimeSeriesPredictor(\n",
        "        prediction_length=dtp,\n",
        "        target=\"close\",\n",
        "        eval_metric=error_metric,\n",
        "        path=path_to_directory  # base_dir\n",
        "    )\n",
        "\n",
        "    predictor.fit(\n",
        "        train_data,\n",
        "        presets=\"best_quality\",  # 'fast_training'\n",
        "        time_limit=max_train_dur,\n",
        "        num_val_windows=n_windows,        # Rolling validation windows\n",
        "        val_step_size=val_step_size_n,  # Controlling overlapping between validation windows, len(train_data)//n_windows means this:\n",
        "        #|-------------------|\n",
        "        #| x x x x x y y - - |\n",
        "        #          | x x x x x x y y - |\n",
        "        #                      | x x x x x x x y y |\n",
        "        # val_step_size=1 (default) means this (and set num_val_windows to something very high e.g. 1/3 of dataset):\n",
        "        #|-------------------|\n",
        "        #| x x x x x y y - - |\n",
        "        #| x x x x x x y y - |\n",
        "        #| x x x x x x x y y |\n",
        "        refit_full=True,\n",
        "        hyperparameters={\n",
        "            \"PatchTST\": {},\n",
        "            \"TiDE\": {},\n",
        "            \"TemporalFusionTransformer\": {},\n",
        "            \"DeepAR\": {},\n",
        "            \"DynamicOptimizedTheta\": {}\n",
        "        }\n",
        "        # excluded_model_types = excluded_model_types\n",
        "    )"
      ]
    },
    {
      "cell_type": "code",
      "execution_count": null,
      "metadata": {
        "id": "YI_p3Seg1wzF"
      },
      "outputs": [],
      "source": [
        "# The test score is computed using the last dts of each time series in test_data\n",
        "leaderboard_df = predictor.leaderboard(train_data).sort_values([\"score_val\"], ascending=False)  # test_data\n",
        "error_val = leaderboard_df[\"score_val\"].max()\n",
        "\n",
        "try:\n",
        "    leaderboard_df.to_csv(result_dir+date_today+'_leaderboard.csv')\n",
        "except Exception as e:\n",
        "    print(e)\n",
        "    pass\n",
        "\n",
        "display(leaderboard_df)\n",
        "# leaderboard_df.loc[leaderboard_df[[\"score_test\", \"score_val\"]].mean(axis=1).sort_values().index[-1]]\n",
        "\n",
        "all_hyperparams = {}\n",
        "\n",
        "# Iterate over all rows in the leaderboard\n",
        "for model_name in leaderboard_df[\"model\"]:\n",
        "    # Load the model object from predictor._trainer\n",
        "    model_obj = predictor._trainer.load_model(model_name)\n",
        "\n",
        "    # Extract hyperparameters (for many models, this is stored in .params)\n",
        "    hyperparams = model_obj.params\n",
        "\n",
        "    # Store them in a dictionary keyed by model name\n",
        "    all_hyperparams[model_name] = hyperparams\n",
        "\n",
        "# Now all_hyperparams is a dict of model_name -> hyperparam dict\n",
        "print(all_hyperparams)"
      ]
    },
    {
      "cell_type": "code",
      "execution_count": null,
      "metadata": {
        "id": "7vaGsh-f2f9V"
      },
      "outputs": [],
      "source": [
        "# Split the data points in half\n",
        "viz_dp = dtp * 4\n",
        "\n",
        "# Label config\n",
        "x_lbl_bins = 20\n",
        "x_lbl_rot = 50\n",
        "\n",
        "# # predictions = predictor.predict(train_data)  # , model=model_to_use)\n",
        "# # predictions.tail(2)\n",
        "\n",
        "forecasts = predictor.predict(train_data.iloc[:-1])  # , model=model_to_use)\n",
        "# # forecasts.head()\n",
        "\n",
        "# # Reset the index to access 'timestamp' as a column\n",
        "train_data_reset = train_data.reset_index().iloc[-viz_dp:]\n",
        "# test_data_reset = test_data.reset_index().iloc[-viz_dp:]\n",
        "# predictions_reset = predictions.reset_index().iloc[-viz_dp:]\n",
        "forecasts_reset = forecasts.reset_index().iloc[-viz_dp:]\n",
        "\n",
        "# Create a figure with 2 subplots (1 row, 2 columns)\n",
        "# fig, axes = plt.subplots(1, 1, figsize=(12, 6))\n",
        "\n",
        "# Format the dates to display only month and day\n",
        "train_data_reset['timestamp'] = train_data_reset['timestamp'].dt.strftime('%m-%d')\n",
        "# test_data_reset['timestamp'] = test_data_reset['timestamp'].dt.strftime('%m-%d')\n",
        "# predictions_reset['timestamp'] = predictions_reset['timestamp'].dt.strftime('%m-%d')\n",
        "forecasts_reset['timestamp'] = forecasts_reset['timestamp'].dt.strftime('%m-%d')\n",
        "\n",
        "# Create a single figure\n",
        "plt.figure(figsize=(12, 6))  # Create a single figure\n",
        "\n",
        "# Plot actual and forecasted data together\n",
        "plt.plot(train_data_reset['timestamp'], train_data_reset['close'], label='Actual', color='blue')\n",
        "plt.plot(forecasts_reset['timestamp'], forecasts_reset['mean'], label='Forecasted', color='orange')\n",
        "plt.fill_between(forecasts_reset['timestamp'], forecasts_reset['0.1'], forecasts_reset['0.9'], color='orange', alpha=0.2)\n",
        "\n",
        "plt.title('Bitcoin Price Forecast (-'+error_metric+':'+str(round(error_val, 2))+')')  # Add a clear title\n",
        "plt.xlabel('Date')\n",
        "plt.ylabel('Price')\n",
        "plt.legend()\n",
        "plt.grid(True)\n",
        "\n",
        "# Rotate x-axis labels if needed\n",
        "plt.xticks(rotation=x_lbl_rot, ha='right')\n",
        "\n",
        "plt.tight_layout()\n",
        "\n",
        "try:\n",
        "    plt.savefig(result_dir+date_today+'_forecasts.png')\n",
        "except Exception as e:\n",
        "    print(e)\n",
        "    pass\n",
        "\n",
        "plt.show()"
      ]
    }
  ],
  "metadata": {
    "accelerator": "GPU",
    "colab": {
      "gpuType": "T4",
      "provenance": [],
      "mount_file_id": "1dM0oLfxStq48e8k47UzzorK-PrH1aa41",
      "authorship_tag": "ABX9TyPwtX0IPUEaArJa29E4qhBI",
      "include_colab_link": true
    },
    "kernelspec": {
      "display_name": "Python 3",
      "name": "python3"
    },
    "language_info": {
      "name": "python"
    }
  },
  "nbformat": 4,
  "nbformat_minor": 0
}